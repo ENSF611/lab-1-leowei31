{
 "cells": [
  {
   "cell_type": "markdown",
   "id": "b92ddbc5",
   "metadata": {},
   "source": [
    "### ENSF 611 Lab 1 Set up\n",
    "Hanzhe(Leo) Wei"
   ]
  },
  {
   "cell_type": "code",
   "execution_count": 1,
   "id": "1162d237",
   "metadata": {},
   "outputs": [
    {
     "name": "stdout",
     "output_type": "stream",
     "text": [
      "Python version: 3.9.12 (main, Apr  5 2022, 01:53:17) \n",
      "[Clang 12.0.0 ]\n",
      "Pandas version: 1.4.2\n",
      "matplotlib version: 3.5.1\n",
      "NumPy version: 1.21.5\n",
      "SciPy version: 1.7.3\n",
      "IPython version: 8.2.0\n",
      "scikit-learn version: 1.0.2\n",
      "yellobrick version: 1.5\n"
     ]
    }
   ],
   "source": [
    "import sys\n",
    "print('Python version:', sys.version)\n",
    "\n",
    "import pandas as pd\n",
    "print('Pandas version:', pd.__version__)\n",
    "\n",
    "import matplotlib \n",
    "print('matplotlib version:', matplotlib.__version__)\n",
    "\n",
    "import numpy as np\n",
    "print('NumPy version:', np.__version__)\n",
    "\n",
    "import scipy as sp\n",
    "print('SciPy version:', sp.__version__)\n",
    "\n",
    "import IPython\n",
    "print('IPython version:', IPython.__version__)\n",
    "\n",
    "import sklearn\n",
    "print('scikit-learn version:', sklearn.__version__)\n",
    "\n",
    "import yellowbrick\n",
    "print('yellobrick version:', yellowbrick.__version__)"
   ]
  },
  {
   "cell_type": "code",
   "execution_count": null,
   "id": "fc842a00",
   "metadata": {},
   "outputs": [],
   "source": []
  }
 ],
 "metadata": {
  "kernelspec": {
   "display_name": "Python 3 (ipykernel)",
   "language": "python",
   "name": "python3"
  },
  "language_info": {
   "codemirror_mode": {
    "name": "ipython",
    "version": 3
   },
   "file_extension": ".py",
   "mimetype": "text/x-python",
   "name": "python",
   "nbconvert_exporter": "python",
   "pygments_lexer": "ipython3",
   "version": "3.9.12"
  }
 },
 "nbformat": 4,
 "nbformat_minor": 5
}
